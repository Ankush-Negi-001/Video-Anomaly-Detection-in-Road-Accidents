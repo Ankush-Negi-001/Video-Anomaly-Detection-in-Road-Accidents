{
 "cells": [
  {
   "cell_type": "code",
   "execution_count": 9,
   "metadata": {
    "ExecuteTime": {
     "end_time": "2020-09-15T17:38:17.890941Z",
     "start_time": "2020-09-15T17:38:17.882929Z"
    }
   },
   "outputs": [],
   "source": [
    "import Ipynb_importer\n",
    "import cv2 as cv\n",
    "import sys,os\n",
    "import time\n",
    "import numpy as np\n",
    "import matplotlib.pyplot as plt\n",
    "import pandas as pd\n",
    "import seaborn as sns\n",
    "from collections import Counter\n",
    "from numba import jit\n",
    "from image_preprocessing import cdi_process,calc_entropy\n",
    "from sklearn.preprocessing import StandardScaler,MinMaxScaler\n",
    "\n",
    "%matplotlib inline\n",
    "sns.set_style('darkgrid')\n",
    "\n",
    "Home_os='C:/Users/Ankush Negi/Desktop/Video Anomaly Detection in Road Accidents/Dataset/video/'\n",
    "negative_os=Home_os+'negative/'\n",
    "positive_os=Home_os+'positive/'"
   ]
  },
  {
   "cell_type": "code",
   "execution_count": 10,
   "metadata": {
    "ExecuteTime": {
     "end_time": "2020-09-15T17:39:04.938042Z",
     "start_time": "2020-09-15T17:38:17.892903Z"
    },
    "code_folding": []
   },
   "outputs": [],
   "source": [
    "video=os.listdir(positive_os)\n",
    "\n",
    "for i in video:\n",
    "    video_name=positive_os+i\n",
    "    #print(video_name)\n",
    "    cap = cv.VideoCapture(video_name)\n",
    "    num=cap.get(7)\n",
    "    if num!=30:\n",
    "        print(i)\n",
    "    while 1:\n",
    "        ret,frame=cap.read() \n",
    "        if ret:\n",
    "            cv.imshow('frame',frame)\n",
    "            k = cv.waitKey(1) \n",
    "            if k ==27:     \n",
    "                break \n",
    "        else:\n",
    "            break\n",
    "cv.destroyAllWindows() "
   ]
  },
  {
   "cell_type": "code",
   "execution_count": 11,
   "metadata": {
    "ExecuteTime": {
     "end_time": "2020-09-15T17:40:31.673325Z",
     "start_time": "2020-09-15T17:39:04.940041Z"
    },
    "code_folding": []
   },
   "outputs": [],
   "source": [
    "video=os.listdir(negative_os)\n",
    "#My_CDI=cdi_process.CDI_lib(cap,Threshold=True,mythold=[0,255])\n",
    "Intensity_list=[]\n",
    "for i in video:\n",
    "    start=0\n",
    "    video_name=negative_os+i\n",
    "    cap = cv.VideoCapture(video_name)\n",
    "    My_CDI=cdi_process.CDI_lib(cap,Threshold=False,mythold=[0,255])\n",
    "    in_list=[]\n",
    "    while 1:\n",
    "        if start<=27:\n",
    "            cdi,frame=My_CDI.CDI(start)\n",
    "            cdi=cv.normalize(cdi,None,0,255,cv.NORM_MINMAX)\n",
    "            H=calc_entropy.entropy(cdi)\n",
    "            in_list.append(H)\n",
    "            cv.imshow('frame',frame)\n",
    "            cv.imshow('cdi',cdi)\n",
    "            k = cv.waitKey(1) \n",
    "            start+=1\n",
    "            if k ==27:     \n",
    "                break \n",
    "        else:\n",
    "            break\n",
    "    Intensity_list.append(in_list)\n",
    "    cap.release()\n",
    "cv.destroyAllWindows() "
   ]
  },
  {
   "cell_type": "code",
   "execution_count": 12,
   "metadata": {
    "ExecuteTime": {
     "end_time": "2020-09-15T17:41:15.930159Z",
     "start_time": "2020-09-15T17:40:31.679309Z"
    }
   },
   "outputs": [],
   "source": [
    "video=os.listdir(positive_os)\n",
    "#My_CDI=cdi_process.CDI_lib(cap,Threshold=True,mythold=[0,255])\n",
    "P_Intensity_list=[]\n",
    "for i in video:\n",
    "    start=0\n",
    "    video_name=positive_os+i\n",
    "    cap = cv.VideoCapture(video_name)\n",
    "    My_CDI=cdi_process.CDI_lib(cap,Threshold=False,mythold=[0,255])\n",
    "    in_list=[]\n",
    "    while 1:\n",
    "        if start<=27:\n",
    "            cdi,frame=My_CDI.CDI(start)\n",
    "            cdi=cv.normalize(cdi,None,0,255,cv.NORM_MINMAX)\n",
    "            H=calc_entropy.entropy(cdi)\n",
    "            in_list.append(H)\n",
    "            cv.imshow('frame',frame)\n",
    "            cv.imshow('cdi',cdi)\n",
    "            k = cv.waitKey(1) \n",
    "            start+=1\n",
    "            if k ==27:     \n",
    "                break \n",
    "        else:\n",
    "            break\n",
    "    P_Intensity_list.append(in_list)\n",
    "    cap.release()\n",
    "cv.destroyAllWindows() "
   ]
  },
  {
   "cell_type": "code",
   "execution_count": 13,
   "metadata": {
    "ExecuteTime": {
     "end_time": "2020-09-15T17:41:15.962085Z",
     "start_time": "2020-09-15T17:41:15.933149Z"
    }
   },
   "outputs": [
    {
     "name": "stdout",
     "output_type": "stream",
     "text": [
      "299\n"
     ]
    }
   ],
   "source": [
    "\n",
    "Combine_Entropy=Intensity_list+P_Intensity_list\n",
    "# min_max_scaler =MinMaxScaler()\n",
    "# for i in range(len(Combine_Entropy)):\n",
    "#     Combine_Entropy[i] = ((min_max_scaler.fit_transform(np.array(Combine_Entropy[i]).reshape(-1,1)))).reshape(-1).tolist()\n",
    "new_list=[]\n",
    "for i in Combine_Entropy:\n",
    "        str1 = ' '.join([str(x) for x in i])\n",
    "        new_list.append(str1)\n",
    "\n",
    "print(len(new_list))\n"
   ]
  },
  {
   "cell_type": "code",
   "execution_count": 14,
   "metadata": {
    "ExecuteTime": {
     "end_time": "2020-09-15T17:41:15.978064Z",
     "start_time": "2020-09-15T17:41:15.965064Z"
    }
   },
   "outputs": [],
   "source": [
    "x = [0] * 198\n",
    "y =[1]*101\n",
    "z=x+y"
   ]
  },
  {
   "cell_type": "code",
   "execution_count": 15,
   "metadata": {
    "ExecuteTime": {
     "end_time": "2020-09-15T17:41:16.010061Z",
     "start_time": "2020-09-15T17:41:15.982019Z"
    }
   },
   "outputs": [
    {
     "data": {
      "text/html": [
       "<div>\n",
       "<style scoped>\n",
       "    .dataframe tbody tr th:only-of-type {\n",
       "        vertical-align: middle;\n",
       "    }\n",
       "\n",
       "    .dataframe tbody tr th {\n",
       "        vertical-align: top;\n",
       "    }\n",
       "\n",
       "    .dataframe thead th {\n",
       "        text-align: right;\n",
       "    }\n",
       "</style>\n",
       "<table border=\"1\" class=\"dataframe\">\n",
       "  <thead>\n",
       "    <tr style=\"text-align: right;\">\n",
       "      <th></th>\n",
       "      <th>entropy</th>\n",
       "      <th>label</th>\n",
       "    </tr>\n",
       "  </thead>\n",
       "  <tbody>\n",
       "    <tr>\n",
       "      <th>0</th>\n",
       "      <td>0.09133721817137734</td>\n",
       "      <td>0</td>\n",
       "    </tr>\n",
       "    <tr>\n",
       "      <th>1</th>\n",
       "      <td>0.3391484654518859</td>\n",
       "      <td>0</td>\n",
       "    </tr>\n",
       "    <tr>\n",
       "      <th>2</th>\n",
       "      <td>1.169620470771869</td>\n",
       "      <td>0</td>\n",
       "    </tr>\n",
       "    <tr>\n",
       "      <th>3</th>\n",
       "      <td>0.6785138228148595</td>\n",
       "      <td>0</td>\n",
       "    </tr>\n",
       "    <tr>\n",
       "      <th>4</th>\n",
       "      <td>0.8143797262795689</td>\n",
       "      <td>0</td>\n",
       "    </tr>\n",
       "    <tr>\n",
       "      <th>...</th>\n",
       "      <td>...</td>\n",
       "      <td>...</td>\n",
       "    </tr>\n",
       "    <tr>\n",
       "      <th>294</th>\n",
       "      <td>0.3206773750424189 0.24303120420971333</td>\n",
       "      <td>1</td>\n",
       "    </tr>\n",
       "    <tr>\n",
       "      <th>295</th>\n",
       "      <td>0.6122839680336032</td>\n",
       "      <td>1</td>\n",
       "    </tr>\n",
       "    <tr>\n",
       "      <th>296</th>\n",
       "      <td>0.38945872169439794</td>\n",
       "      <td>1</td>\n",
       "    </tr>\n",
       "    <tr>\n",
       "      <th>297</th>\n",
       "      <td>0.6142507990370988</td>\n",
       "      <td>1</td>\n",
       "    </tr>\n",
       "    <tr>\n",
       "      <th>298</th>\n",
       "      <td>1.0122886394781618 1.1979319066411172</td>\n",
       "      <td>1</td>\n",
       "    </tr>\n",
       "  </tbody>\n",
       "</table>\n",
       "<p>299 rows × 2 columns</p>\n",
       "</div>"
      ],
      "text/plain": [
       "                                    entropy  label\n",
       "0                       0.09133721817137734      0\n",
       "1                        0.3391484654518859      0\n",
       "2                         1.169620470771869      0\n",
       "3                        0.6785138228148595      0\n",
       "4                        0.8143797262795689      0\n",
       "..                                      ...    ...\n",
       "294  0.3206773750424189 0.24303120420971333      1\n",
       "295                      0.6122839680336032      1\n",
       "296                     0.38945872169439794      1\n",
       "297                      0.6142507990370988      1\n",
       "298   1.0122886394781618 1.1979319066411172      1\n",
       "\n",
       "[299 rows x 2 columns]"
      ]
     },
     "metadata": {},
     "output_type": "display_data"
    }
   ],
   "source": [
    "#combine_dict={'entropy':new_list,'label':z}\n",
    "combine_dict1={'entropy':new_list,'label':z}\n",
    "df=pd.DataFrame(combine_dict1)\n",
    "\n",
    "display(df)\n",
    "\n",
    "y=df['label'].values"
   ]
  },
  {
   "cell_type": "code",
   "execution_count": 17,
   "metadata": {
    "ExecuteTime": {
     "end_time": "2020-09-15T17:41:16.057057Z",
     "start_time": "2020-09-15T17:41:16.012090Z"
    }
   },
   "outputs": [
    {
     "data": {
      "text/html": [
       "<div>\n",
       "<style scoped>\n",
       "    .dataframe tbody tr th:only-of-type {\n",
       "        vertical-align: middle;\n",
       "    }\n",
       "\n",
       "    .dataframe tbody tr th {\n",
       "        vertical-align: top;\n",
       "    }\n",
       "\n",
       "    .dataframe thead th {\n",
       "        text-align: right;\n",
       "    }\n",
       "</style>\n",
       "<table border=\"1\" class=\"dataframe\">\n",
       "  <thead>\n",
       "    <tr style=\"text-align: right;\">\n",
       "      <th></th>\n",
       "      <th>0</th>\n",
       "      <th>1</th>\n",
       "      <th>2</th>\n",
       "      <th>Class</th>\n",
       "    </tr>\n",
       "  </thead>\n",
       "  <tbody>\n",
       "    <tr>\n",
       "      <th>0</th>\n",
       "      <td>0.09133721817137734</td>\n",
       "      <td>None</td>\n",
       "      <td>None</td>\n",
       "      <td>0</td>\n",
       "    </tr>\n",
       "    <tr>\n",
       "      <th>1</th>\n",
       "      <td>0.3391484654518859</td>\n",
       "      <td>None</td>\n",
       "      <td>None</td>\n",
       "      <td>0</td>\n",
       "    </tr>\n",
       "    <tr>\n",
       "      <th>2</th>\n",
       "      <td>1.169620470771869</td>\n",
       "      <td>None</td>\n",
       "      <td>None</td>\n",
       "      <td>0</td>\n",
       "    </tr>\n",
       "    <tr>\n",
       "      <th>3</th>\n",
       "      <td>0.6785138228148595</td>\n",
       "      <td>None</td>\n",
       "      <td>None</td>\n",
       "      <td>0</td>\n",
       "    </tr>\n",
       "    <tr>\n",
       "      <th>4</th>\n",
       "      <td>0.8143797262795689</td>\n",
       "      <td>None</td>\n",
       "      <td>None</td>\n",
       "      <td>0</td>\n",
       "    </tr>\n",
       "    <tr>\n",
       "      <th>...</th>\n",
       "      <td>...</td>\n",
       "      <td>...</td>\n",
       "      <td>...</td>\n",
       "      <td>...</td>\n",
       "    </tr>\n",
       "    <tr>\n",
       "      <th>294</th>\n",
       "      <td>0.3206773750424189</td>\n",
       "      <td>0.24303120420971333</td>\n",
       "      <td>None</td>\n",
       "      <td>1</td>\n",
       "    </tr>\n",
       "    <tr>\n",
       "      <th>295</th>\n",
       "      <td>0.6122839680336032</td>\n",
       "      <td>None</td>\n",
       "      <td>None</td>\n",
       "      <td>1</td>\n",
       "    </tr>\n",
       "    <tr>\n",
       "      <th>296</th>\n",
       "      <td>0.38945872169439794</td>\n",
       "      <td>None</td>\n",
       "      <td>None</td>\n",
       "      <td>1</td>\n",
       "    </tr>\n",
       "    <tr>\n",
       "      <th>297</th>\n",
       "      <td>0.6142507990370988</td>\n",
       "      <td>None</td>\n",
       "      <td>None</td>\n",
       "      <td>1</td>\n",
       "    </tr>\n",
       "    <tr>\n",
       "      <th>298</th>\n",
       "      <td>1.0122886394781618</td>\n",
       "      <td>1.1979319066411172</td>\n",
       "      <td>None</td>\n",
       "      <td>1</td>\n",
       "    </tr>\n",
       "  </tbody>\n",
       "</table>\n",
       "<p>299 rows × 4 columns</p>\n",
       "</div>"
      ],
      "text/plain": [
       "                       0                    1     2  Class\n",
       "0    0.09133721817137734                 None  None      0\n",
       "1     0.3391484654518859                 None  None      0\n",
       "2      1.169620470771869                 None  None      0\n",
       "3     0.6785138228148595                 None  None      0\n",
       "4     0.8143797262795689                 None  None      0\n",
       "..                   ...                  ...   ...    ...\n",
       "294   0.3206773750424189  0.24303120420971333  None      1\n",
       "295   0.6122839680336032                 None  None      1\n",
       "296  0.38945872169439794                 None  None      1\n",
       "297   0.6142507990370988                 None  None      1\n",
       "298   1.0122886394781618   1.1979319066411172  None      1\n",
       "\n",
       "[299 rows x 4 columns]"
      ]
     },
     "metadata": {},
     "output_type": "display_data"
    }
   ],
   "source": [
    "data_df = df['entropy'].str.split(' ', expand=True)\n",
    "\n",
    "data_df['Class'] =y\n",
    "data_df.to_csv('C:/Users/Ankush Negi/Desktop/Video Anomaly Detection in Road Accidents/CSV/Gray.csv')\n",
    "display(data_df)"
   ]
  },
  {
   "cell_type": "code",
   "execution_count": null,
   "metadata": {},
   "outputs": [],
   "source": []
  }
 ],
 "metadata": {
  "kernelspec": {
   "display_name": "Python 3",
   "language": "python",
   "name": "python3"
  },
  "language_info": {
   "codemirror_mode": {
    "name": "ipython",
    "version": 3
   },
   "file_extension": ".py",
   "mimetype": "text/x-python",
   "name": "python",
   "nbconvert_exporter": "python",
   "pygments_lexer": "ipython3",
   "version": "3.8.0"
  },
  "toc": {
   "base_numbering": 1,
   "nav_menu": {},
   "number_sections": true,
   "sideBar": true,
   "skip_h1_title": false,
   "title_cell": "Table of Contents",
   "title_sidebar": "Contents",
   "toc_cell": false,
   "toc_position": {},
   "toc_section_display": true,
   "toc_window_display": false
  },
  "vscode": {
   "interpreter": {
    "hash": "570feb405e2e27c949193ac68f46852414290d515b0ba6e5d90d076ed2284471"
   }
  }
 },
 "nbformat": 4,
 "nbformat_minor": 4
}
