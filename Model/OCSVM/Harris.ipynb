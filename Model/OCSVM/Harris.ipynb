{
 "cells": [
  {
   "cell_type": "code",
   "execution_count": 6,
   "metadata": {
    "ExecuteTime": {
     "end_time": "2020-09-15T17:53:29.799065Z",
     "start_time": "2020-09-15T17:53:29.786107Z"
    }
   },
   "outputs": [],
   "source": [
    "import numpy as np  \n",
    "import matplotlib.pyplot as plt  \n",
    "import matplotlib.font_manager  \n",
    "import pandas as pd\n",
    "from sklearn import svm  \n",
    "from sklearn.model_selection import train_test_split\n",
    "from sklearn.preprocessing import StandardScaler,MinMaxScaler\n",
    "from sklearn import metrics\n",
    "from sklearn.metrics import roc_curve, auc, precision_recall_curve,confusion_matrix,classification_report\n",
    "# plt.style.use('seaborn')"
   ]
  },
  {
   "cell_type": "code",
   "execution_count": 11,
   "metadata": {
    "ExecuteTime": {
     "end_time": "2020-09-15T17:53:29.843920Z",
     "start_time": "2020-09-15T17:53:29.801067Z"
    }
   },
   "outputs": [
    {
     "data": {
      "text/html": [
       "<div>\n",
       "<style scoped>\n",
       "    .dataframe tbody tr th:only-of-type {\n",
       "        vertical-align: middle;\n",
       "    }\n",
       "\n",
       "    .dataframe tbody tr th {\n",
       "        vertical-align: top;\n",
       "    }\n",
       "\n",
       "    .dataframe thead th {\n",
       "        text-align: right;\n",
       "    }\n",
       "</style>\n",
       "<table border=\"1\" class=\"dataframe\">\n",
       "  <thead>\n",
       "    <tr style=\"text-align: right;\">\n",
       "      <th></th>\n",
       "      <th>0</th>\n",
       "      <th>1</th>\n",
       "      <th>2</th>\n",
       "      <th>3</th>\n",
       "      <th>4</th>\n",
       "      <th>5</th>\n",
       "      <th>6</th>\n",
       "      <th>7</th>\n",
       "      <th>8</th>\n",
       "      <th>9</th>\n",
       "      <th>...</th>\n",
       "      <th>19</th>\n",
       "      <th>20</th>\n",
       "      <th>21</th>\n",
       "      <th>22</th>\n",
       "      <th>23</th>\n",
       "      <th>24</th>\n",
       "      <th>25</th>\n",
       "      <th>26</th>\n",
       "      <th>27</th>\n",
       "      <th>Class</th>\n",
       "    </tr>\n",
       "  </thead>\n",
       "  <tbody>\n",
       "    <tr>\n",
       "      <th>0</th>\n",
       "      <td>0.095937</td>\n",
       "      <td>0.079875</td>\n",
       "      <td>0.122540</td>\n",
       "      <td>0.116927</td>\n",
       "      <td>0.072448</td>\n",
       "      <td>0.057034</td>\n",
       "      <td>0.112400</td>\n",
       "      <td>0.087920</td>\n",
       "      <td>0.068738</td>\n",
       "      <td>0.223741</td>\n",
       "      <td>...</td>\n",
       "      <td>0.104717</td>\n",
       "      <td>0.048793</td>\n",
       "      <td>0.072264</td>\n",
       "      <td>0.253988</td>\n",
       "      <td>0.150261</td>\n",
       "      <td>0.076213</td>\n",
       "      <td>0.074173</td>\n",
       "      <td>0.072069</td>\n",
       "      <td>0.087121</td>\n",
       "      <td>1</td>\n",
       "    </tr>\n",
       "    <tr>\n",
       "      <th>1</th>\n",
       "      <td>0.304889</td>\n",
       "      <td>0.146858</td>\n",
       "      <td>0.330778</td>\n",
       "      <td>0.302426</td>\n",
       "      <td>0.236376</td>\n",
       "      <td>0.166278</td>\n",
       "      <td>0.129041</td>\n",
       "      <td>0.126375</td>\n",
       "      <td>0.096771</td>\n",
       "      <td>0.075723</td>\n",
       "      <td>...</td>\n",
       "      <td>0.096897</td>\n",
       "      <td>0.117096</td>\n",
       "      <td>0.104363</td>\n",
       "      <td>0.106875</td>\n",
       "      <td>0.061867</td>\n",
       "      <td>0.067942</td>\n",
       "      <td>0.097489</td>\n",
       "      <td>0.092374</td>\n",
       "      <td>0.091930</td>\n",
       "      <td>1</td>\n",
       "    </tr>\n",
       "    <tr>\n",
       "      <th>2</th>\n",
       "      <td>0.323911</td>\n",
       "      <td>0.284148</td>\n",
       "      <td>0.227685</td>\n",
       "      <td>0.303953</td>\n",
       "      <td>0.333315</td>\n",
       "      <td>0.325163</td>\n",
       "      <td>0.271983</td>\n",
       "      <td>0.205551</td>\n",
       "      <td>0.455989</td>\n",
       "      <td>0.577725</td>\n",
       "      <td>...</td>\n",
       "      <td>0.491290</td>\n",
       "      <td>0.312860</td>\n",
       "      <td>0.203392</td>\n",
       "      <td>0.274094</td>\n",
       "      <td>0.583113</td>\n",
       "      <td>0.433110</td>\n",
       "      <td>0.362074</td>\n",
       "      <td>0.390267</td>\n",
       "      <td>0.349134</td>\n",
       "      <td>1</td>\n",
       "    </tr>\n",
       "    <tr>\n",
       "      <th>3</th>\n",
       "      <td>0.322417</td>\n",
       "      <td>0.369392</td>\n",
       "      <td>0.214746</td>\n",
       "      <td>0.184907</td>\n",
       "      <td>0.455699</td>\n",
       "      <td>0.369409</td>\n",
       "      <td>0.349174</td>\n",
       "      <td>0.225891</td>\n",
       "      <td>0.187405</td>\n",
       "      <td>0.216779</td>\n",
       "      <td>...</td>\n",
       "      <td>0.243712</td>\n",
       "      <td>0.062769</td>\n",
       "      <td>0.036116</td>\n",
       "      <td>0.180413</td>\n",
       "      <td>0.152145</td>\n",
       "      <td>0.144760</td>\n",
       "      <td>0.109275</td>\n",
       "      <td>0.133697</td>\n",
       "      <td>0.131372</td>\n",
       "      <td>1</td>\n",
       "    </tr>\n",
       "    <tr>\n",
       "      <th>4</th>\n",
       "      <td>0.327992</td>\n",
       "      <td>0.239465</td>\n",
       "      <td>0.372613</td>\n",
       "      <td>0.332271</td>\n",
       "      <td>0.306146</td>\n",
       "      <td>0.274417</td>\n",
       "      <td>0.205956</td>\n",
       "      <td>0.146399</td>\n",
       "      <td>0.352690</td>\n",
       "      <td>0.383255</td>\n",
       "      <td>...</td>\n",
       "      <td>0.248499</td>\n",
       "      <td>0.273326</td>\n",
       "      <td>0.139415</td>\n",
       "      <td>0.159753</td>\n",
       "      <td>0.179938</td>\n",
       "      <td>0.254193</td>\n",
       "      <td>0.266873</td>\n",
       "      <td>0.116151</td>\n",
       "      <td>0.144289</td>\n",
       "      <td>1</td>\n",
       "    </tr>\n",
       "  </tbody>\n",
       "</table>\n",
       "<p>5 rows × 29 columns</p>\n",
       "</div>"
      ],
      "text/plain": [
       "          0         1         2         3         4         5         6  \\\n",
       "0  0.095937  0.079875  0.122540  0.116927  0.072448  0.057034  0.112400   \n",
       "1  0.304889  0.146858  0.330778  0.302426  0.236376  0.166278  0.129041   \n",
       "2  0.323911  0.284148  0.227685  0.303953  0.333315  0.325163  0.271983   \n",
       "3  0.322417  0.369392  0.214746  0.184907  0.455699  0.369409  0.349174   \n",
       "4  0.327992  0.239465  0.372613  0.332271  0.306146  0.274417  0.205956   \n",
       "\n",
       "          7         8         9  ...        19        20        21        22  \\\n",
       "0  0.087920  0.068738  0.223741  ...  0.104717  0.048793  0.072264  0.253988   \n",
       "1  0.126375  0.096771  0.075723  ...  0.096897  0.117096  0.104363  0.106875   \n",
       "2  0.205551  0.455989  0.577725  ...  0.491290  0.312860  0.203392  0.274094   \n",
       "3  0.225891  0.187405  0.216779  ...  0.243712  0.062769  0.036116  0.180413   \n",
       "4  0.146399  0.352690  0.383255  ...  0.248499  0.273326  0.139415  0.159753   \n",
       "\n",
       "         23        24        25        26        27  Class  \n",
       "0  0.150261  0.076213  0.074173  0.072069  0.087121      1  \n",
       "1  0.061867  0.067942  0.097489  0.092374  0.091930      1  \n",
       "2  0.583113  0.433110  0.362074  0.390267  0.349134      1  \n",
       "3  0.152145  0.144760  0.109275  0.133697  0.131372      1  \n",
       "4  0.179938  0.254193  0.266873  0.116151  0.144289      1  \n",
       "\n",
       "[5 rows x 29 columns]"
      ]
     },
     "metadata": {},
     "output_type": "display_data"
    }
   ],
   "source": [
    "d = pd.read_csv('C:/Users/Ankush Negi/Desktop/Video Anomaly Detection in Road Accidents/CSV/Harris.csv',index_col=0)\n",
    "d.loc[d['Class'] == 1, 'Class'] = -1\n",
    "d.loc[d['Class'] == 0, 'Class'] = 1\n",
    "display(d.head())"
   ]
  },
  {
   "cell_type": "code",
   "execution_count": 12,
   "metadata": {
    "ExecuteTime": {
     "end_time": "2020-09-15T17:53:29.859910Z",
     "start_time": "2020-09-15T17:53:29.845915Z"
    }
   },
   "outputs": [
    {
     "name": "stderr",
     "output_type": "stream",
     "text": [
      "C:\\Users\\Ankush Negi\\AppData\\Roaming\\Python\\Python38\\site-packages\\sklearn\\base.py:420: UserWarning: X does not have valid feature names, but MinMaxScaler was fitted with feature names\n",
      "  warnings.warn(\n"
     ]
    }
   ],
   "source": [
    "data = d\n",
    "mask = (data['Class'] == 1)\n",
    "\n",
    "X_train, X_test = train_test_split(data[mask], test_size=0.2, random_state=2)\n",
    "X_train = X_train.drop(['Class'], axis=1)\n",
    "X_test = X_test.drop(['Class'], axis=1)\n",
    "X_fraud = data[~mask].drop(['Class'], axis=1)\n",
    "\n",
    "x_test=np.vstack((X_test,X_fraud))\n",
    "y_test=[1]*len(X_test)+[-1]*len(X_fraud)\n",
    "std=MinMaxScaler()\n",
    "X_train=std.fit_transform(X_train)\n",
    "x_test=std.transform(x_test)\n"
   ]
  },
  {
   "cell_type": "code",
   "execution_count": 13,
   "metadata": {
    "ExecuteTime": {
     "end_time": "2020-09-15T17:53:29.875899Z",
     "start_time": "2020-09-15T17:53:29.860892Z"
    }
   },
   "outputs": [
    {
     "name": "stdout",
     "output_type": "stream",
     "text": [
      "0.5673758865248227\n",
      "              precision    recall  f1-score   support\n",
      "\n",
      "          -1       0.70      0.68      0.69       101\n",
      "           1       0.26      0.28      0.27        40\n",
      "\n",
      "    accuracy                           0.57       141\n",
      "   macro avg       0.48      0.48      0.48       141\n",
      "weighted avg       0.58      0.57      0.57       141\n",
      "\n"
     ]
    }
   ],
   "source": [
    "clf = svm.OneClassSVM(kernel='rbf',nu=0.6)  \n",
    "clf.fit(X_train)  \n",
    "\n",
    "y_pred = clf.predict(x_test)  \n",
    "y_prob = clf.decision_function(x_test)  # the lower, the more normal\n",
    "\n",
    "fpr,tpr,threshold_svc = metrics.roc_curve(y_test,y_prob)     \n",
    "auc_svc = metrics.auc(fpr,tpr)   \n",
    "\n",
    "precision, recall, _ = precision_recall_curve(y_test,y_prob)\n",
    "pr_auc = auc(recall, precision)\n",
    "\n",
    "score_svc = metrics.accuracy_score(y_test,y_pred)\n",
    "\n",
    "print(score_svc)\n",
    "print(classification_report(y_test, y_pred))"
   ]
  },
  {
   "cell_type": "code",
   "execution_count": 14,
   "metadata": {
    "ExecuteTime": {
     "end_time": "2020-09-15T17:53:30.110517Z",
     "start_time": "2020-09-15T17:53:29.876832Z"
    }
   },
   "outputs": [
    {
     "data": {
      "image/png": "[encoded data removed]",
      "text/plain": [
       "<Figure size 1008x432 with 2 Axes>"
      ]
     },
     "metadata": {
      "needs_background": "light"
     },
     "output_type": "display_data"
    }
   ],
   "source": [
    "plt.figure(figsize=(14, 6))\n",
    "plt.subplot(121)\n",
    "#plt.figure(figsize=(14, 6))\n",
    "plt.title('Receiver Operating Characteristic \\nAUC = %0.2f'% auc_svc)   \n",
    "plt.plot(fpr, tpr, c='coral', lw=3)\n",
    "plt.plot([0,1],[0,1], c='dodgerblue', ls='--')\n",
    "plt.ylabel('TPR'); plt.xlabel('FPR')\n",
    "\n",
    "plt.subplot(122)\n",
    "plt.title('Precision-Recall curve based on \\nAUC = %0.2f'% pr_auc)\n",
    "plt.plot(recall[:-2], precision[:-2], c='coral', lw=3)\n",
    "plt.xlabel('Recall'); plt.ylabel('Precision')\n",
    "plt.show()"
   ]
  },
  {
   "cell_type": "code",
   "execution_count": null,
   "metadata": {},
   "outputs": [],
   "source": []
  }
 ],
 "metadata": {
  "kernelspec": {
   "display_name": "Python 3",
   "language": "python",
   "name": "python3"
  },
  "language_info": {
   "codemirror_mode": {
    "name": "ipython",
    "version": 3
   },
   "file_extension": ".py",
   "mimetype": "text/x-python",
   "name": "python",
   "nbconvert_exporter": "python",
   "pygments_lexer": "ipython3",
   "version": "3.8.0"
  },
  "toc": {
   "base_numbering": 1,
   "nav_menu": {},
   "number_sections": true,
   "sideBar": true,
   "skip_h1_title": false,
   "title_cell": "Table of Contents",
   "title_sidebar": "Contents",
   "toc_cell": false,
   "toc_position": {},
   "toc_section_display": true,
   "toc_window_display": false
  },
  "vscode": {
   "interpreter": {
    "hash": "570feb405e2e27c949193ac68f46852414290d515b0ba6e5d90d076ed2284471"
   }
  }
 },
 "nbformat": 4,
 "nbformat_minor": 4
}
