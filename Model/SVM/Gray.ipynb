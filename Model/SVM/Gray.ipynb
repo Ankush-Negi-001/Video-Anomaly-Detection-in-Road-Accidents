{
 "cells": [
  {
   "cell_type": "code",
   "execution_count": 2,
   "metadata": {
    "ExecuteTime": {
     "end_time": "2020-09-15T17:31:44.216969Z",
     "start_time": "2020-09-15T17:31:41.899370Z"
    }
   },
   "outputs": [
    {
     "ename": "ModuleNotFoundError",
     "evalue": "No module named 'pandas_profiling'",
     "output_type": "error",
     "traceback": [
      "\u001b[1;31m---------------------------------------------------------------------------\u001b[0m",
      "\u001b[1;31mModuleNotFoundError\u001b[0m                       Traceback (most recent call last)",
      "\u001b[1;32mC:\\Users\\ANKUSH~1\\AppData\\Local\\Temp/ipykernel_7952/4006917965.py\u001b[0m in \u001b[0;36m<module>\u001b[1;34m\u001b[0m\n\u001b[0;32m      2\u001b[0m \u001b[1;32mimport\u001b[0m \u001b[0msys\u001b[0m\u001b[1;33m\u001b[0m\u001b[1;33m\u001b[0m\u001b[0m\n\u001b[0;32m      3\u001b[0m \u001b[1;32mimport\u001b[0m \u001b[0mpandas\u001b[0m \u001b[1;32mas\u001b[0m \u001b[0mpd\u001b[0m\u001b[1;33m\u001b[0m\u001b[1;33m\u001b[0m\u001b[0m\n\u001b[1;32m----> 4\u001b[1;33m \u001b[1;32mimport\u001b[0m \u001b[0mpandas_profiling\u001b[0m\u001b[1;33m\u001b[0m\u001b[1;33m\u001b[0m\u001b[0m\n\u001b[0m\u001b[0;32m      5\u001b[0m \u001b[1;32mimport\u001b[0m \u001b[0mnumpy\u001b[0m \u001b[1;32mas\u001b[0m \u001b[0mnp\u001b[0m\u001b[1;33m\u001b[0m\u001b[1;33m\u001b[0m\u001b[0m\n\u001b[0;32m      6\u001b[0m \u001b[1;32mfrom\u001b[0m \u001b[0msklearn\u001b[0m\u001b[1;33m.\u001b[0m\u001b[0mmodel_selection\u001b[0m \u001b[1;32mimport\u001b[0m \u001b[0mtrain_test_split\u001b[0m\u001b[1;33m\u001b[0m\u001b[1;33m\u001b[0m\u001b[0m\n",
      "\u001b[1;31mModuleNotFoundError\u001b[0m: No module named 'pandas_profiling'"
     ]
    }
   ],
   "source": [
    "import os\n",
    "import sys\n",
    "import pandas as pd\n",
    "import pandas_profiling\n",
    "import numpy as np\n",
    "from sklearn.model_selection import train_test_split\n",
    "from sklearn.preprocessing import StandardScaler,MinMaxScaler\n",
    "\n",
    "d = pd.read_csv('D:/New folder/MAJOR PROJECT/Project/CDI_Based/Entropy/CSV/Gray.csv',index_col=0)\n",
    "display(d.head())\n"
   ]
  },
  {
   "cell_type": "code",
   "execution_count": 6,
   "metadata": {
    "ExecuteTime": {
     "end_time": "2020-09-15T17:33:04.653271Z",
     "start_time": "2020-09-15T17:33:04.640295Z"
    }
   },
   "outputs": [],
   "source": [
    "data = d\n",
    "\n",
    "X_train, X_test = train_test_split(data, test_size=0.2, random_state=0)\n",
    "Y_train,Y_test=X_train['Class'].values,X_test['Class'].values\n",
    "\n",
    "\n",
    "X_train = X_train.drop(['Class'], axis=1)\n",
    "X_test = X_test.drop(['Class'], axis=1)\n",
    "\n",
    "#display(X_train)\n",
    "std =StandardScaler()\n",
    "X_train=std.fit_transform(X_train)\n",
    "X_test=std.transform(X_test)\n"
   ]
  },
  {
   "cell_type": "code",
   "execution_count": 3,
   "metadata": {
    "ExecuteTime": {
     "end_time": "2020-09-15T17:31:44.456438Z",
     "start_time": "2020-09-15T17:31:44.234921Z"
    }
   },
   "outputs": [
    {
     "name": "stdout",
     "output_type": "stream",
     "text": [
      "Test: 0.6667 0.7167 | Train: 0.7866 0.9055\n",
      "Test: 0.7000 0.7106 | Train: 0.8033 0.9390\n",
      "Test: 0.7000 0.6960 | Train: 0.8201 0.9516\n",
      "Test: 0.7000 0.7021 | Train: 0.8410 0.9576\n",
      "Test: 0.7000 0.6935 | Train: 0.8661 0.9613\n",
      "Test: 0.7000 0.6960 | Train: 0.8787 0.9673\n",
      "Test: 0.6667 0.6923 | Train: 0.8828 0.9737\n",
      "Test: 0.6667 0.6813 | Train: 0.8954 0.9767\n",
      "Test: 0.6667 0.6801 | Train: 0.8954 0.9833\n"
     ]
    }
   ],
   "source": [
    "from sklearn.svm import SVC\n",
    "from sklearn import metrics\n",
    "for i in range(1,10):\n",
    "    svc = SVC(kernel='rbf',C=i,degree=2,probability = True).fit(X_train,Y_train)\n",
    "    \n",
    "    test_prob = svc.decision_function(X_test) \n",
    "    test_pred = svc.predict(X_test)    \n",
    "    \n",
    "    train_prob = svc.decision_function(X_train) \n",
    "    train_pred = svc.predict(X_train)    \n",
    "    \n",
    "    fpr_test,tpr_test,_ = metrics.roc_curve(Y_test,test_prob)     \n",
    "    auc_test = metrics.auc(fpr_test,tpr_test)                              \n",
    "    score_test = metrics.accuracy_score(Y_test,test_pred)\n",
    "    \n",
    "    fpr_train,tpr_train,_ = metrics.roc_curve(Y_train,train_prob)     \n",
    "    auc_train = metrics.auc(fpr_train,tpr_train)                              \n",
    "    score_train = metrics.accuracy_score(Y_train,train_pred)\n",
    "    \n",
    "    print('Test: %.4f' %score_test,'%.4f' %auc_test,'|',\"Train: %.4f\" %score_train,'%.4f' %auc_train)"
   ]
  },
  {
   "cell_type": "code",
   "execution_count": 5,
   "metadata": {
    "ExecuteTime": {
     "end_time": "2020-09-15T17:32:54.094112Z",
     "start_time": "2020-09-15T17:32:49.711512Z"
    }
   },
   "outputs": [
    {
     "name": "stdout",
     "output_type": "stream",
     "text": [
      "Test: 0.7167\n",
      "Test: 0.8000\n",
      "Test: 0.7167\n",
      "Test: 0.7667\n",
      "Test: 0.7833\n",
      "Test: 0.6167\n",
      "Test: 0.8167\n",
      "Test: 0.7167\n",
      "Test: 0.7500\n",
      "Test: 0.7333\n",
      "Test: 0.7333\n",
      "Test: 0.7667\n",
      "Test: 0.8167\n",
      "Test: 0.7333\n",
      "Test: 0.7167\n",
      "Test: 0.8333\n",
      "Test: 0.6333\n",
      "Test: 0.7500\n",
      "Test: 0.8333\n",
      "Test: 0.7667\n",
      "Test: 0.7167\n",
      "Test: 0.6667\n",
      "Test: 0.7500\n",
      "Test: 0.7500\n",
      "Test: 0.7667\n",
      "Test: 0.7667\n",
      "Test: 0.7833\n",
      "Test: 0.8167\n",
      "Test: 0.7333\n",
      "Test: 0.7667\n",
      "0.7505555555555555\n"
     ]
    }
   ],
   "source": [
    "list_score=[]\n",
    "for i in range(30):\n",
    "    X_train, X_test = train_test_split(data, test_size=0.2, random_state=i)\n",
    "    Y_train,Y_test=X_train['Class'].values,X_test['Class'].values\n",
    "    X_train = X_train.drop(['Class'], axis=1).values\n",
    "    X_test = X_test.drop(['Class'], axis=1).values\n",
    "\n",
    "    std =StandardScaler()\n",
    "    X_train=std.fit_transform(X_train)\n",
    "    X_test=std.transform(X_test)\n",
    "    best_score=[]\n",
    "    for j in range(1,10):\n",
    "        svc = SVC(kernel='rbf',C=j,degree=6,probability = True).fit(X_train,Y_train)\n",
    "\n",
    "        test_prob = svc.decision_function(X_test) \n",
    "        test_pred = svc.predict(X_test)    \n",
    "\n",
    "        train_prob = svc.decision_function(X_train) \n",
    "        train_pred = svc.predict(X_train)    \n",
    "\n",
    "        fpr_test,tpr_test,_ = metrics.roc_curve(Y_test,test_prob)     \n",
    "        auc_test = metrics.auc(fpr_test,tpr_test)                              \n",
    "        score_test = metrics.accuracy_score(Y_test,test_pred)\n",
    "\n",
    "        fpr_train,tpr_train,_ = metrics.roc_curve(Y_train,train_prob)     \n",
    "        auc_train = metrics.auc(fpr_train,tpr_train)                              \n",
    "        score_train = metrics.accuracy_score(Y_train,train_pred)\n",
    "        best_score.append(score_test)\n",
    "    score=max(best_score)\n",
    "    list_score.append(score)\n",
    "        #print('Test: %.4f' %score_test,'%.4f' %auc_test,'|',\"Train: %.4f\" %score_train,'%.4f' %auc_train)\n",
    "    print('Test: %.4f' %score)\n",
    "print(np.mean(np.array(list_score)))"
   ]
  },
  {
   "cell_type": "code",
   "execution_count": null,
   "metadata": {},
   "outputs": [],
   "source": []
  }
 ],
 "metadata": {
  "kernelspec": {
   "display_name": "Python 3 (ipykernel)",
   "language": "python",
   "name": "python3"
  },
  "language_info": {
   "codemirror_mode": {
    "name": "ipython",
    "version": 3
   },
   "file_extension": ".py",
   "mimetype": "text/x-python",
   "name": "python",
   "nbconvert_exporter": "python",
   "pygments_lexer": "ipython3",
   "version": "3.9.7"
  },
  "toc": {
   "base_numbering": 1,
   "nav_menu": {},
   "number_sections": true,
   "sideBar": true,
   "skip_h1_title": false,
   "title_cell": "Table of Contents",
   "title_sidebar": "Contents",
   "toc_cell": false,
   "toc_position": {},
   "toc_section_display": true,
   "toc_window_display": false
  }
 },
 "nbformat": 4,
 "nbformat_minor": 4
}
